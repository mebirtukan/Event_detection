{
  "nbformat": 4,
  "nbformat_minor": 0,
  "metadata": {
    "colab": {
      "name": "LSTM.ipynb",
      "provenance": [],
      "authorship_tag": "ABX9TyOfZqU/spO2RrEeV3occGcJ",
      "include_colab_link": true
    },
    "kernelspec": {
      "name": "python3",
      "display_name": "Python 3"
    },
    "language_info": {
      "name": "python"
    }
  },
  "cells": [
    {
      "cell_type": "markdown",
      "metadata": {
        "id": "view-in-github",
        "colab_type": "text"
      },
      "source": [
        "<a href=\"https://colab.research.google.com/github/mebirtukan/Event_detection/blob/main/LSTM.ipynb\" target=\"_parent\"><img src=\"https://colab.research.google.com/assets/colab-badge.svg\" alt=\"Open In Colab\"/></a>"
      ]
    },
    {
      "cell_type": "code",
      "execution_count": null,
      "metadata": {
        "id": "0rIDCkwI26vG"
      },
      "outputs": [],
      "source": [
        "from scipy.io import loadmat\n",
        "import pandas as pd\n",
        "import numpy as np\n",
        "import matplotlib as mpl\n",
        "import matplotlib.pyplot as plt\n",
        "from sklearn.model_selection import train_test_split\n",
        "from sklearn.preprocessing import MinMaxScaler, StandardScaler\n",
        "import tensorflow as tf\n",
        "from tensorflow.keras.preprocessing.sequence import TimeseriesGenerator\n",
        "from sklearn.metrics import confusion_matrix\n",
        "import matplotlib.pyplot as plt\n",
        "from tensorflow.keras.models import Sequential\n",
        "from tensorflow.keras.layers import Dense, Dropout, Activation, Flatten, Conv1D, MaxPool1D, Conv2D, ConvLSTM2D, MaxPool3D, ConvLSTM3D, LSTM\n",
        "from sklearn.metrics import confusion_matrix, classification_report, accuracy_score, cohen_kappa_score\n",
        "\n"
      ]
    },
    {
      "cell_type": "code",
      "source": [
        "!wget www.kasprowski.pl/datasets/events.zip\n",
        "!unzip events.zip > xx"
      ],
      "metadata": {
        "id": "C7PEZMm840ui",
        "colab": {
          "base_uri": "https://localhost:8080/"
        },
        "outputId": "7fa0316e-7032-4e0f-eb92-e1c565fb9f67"
      },
      "execution_count": null,
      "outputs": [
        {
          "output_type": "stream",
          "name": "stdout",
          "text": [
            "--2022-07-20 23:29:36--  http://www.kasprowski.pl/datasets/events.zip\n",
            "Resolving www.kasprowski.pl (www.kasprowski.pl)... 94.152.164.213\n",
            "Connecting to www.kasprowski.pl (www.kasprowski.pl)|94.152.164.213|:80... connected.\n",
            "HTTP request sent, awaiting response... 200 OK\n",
            "Length: 2909538 (2.8M) [application/zip]\n",
            "Saving to: ‘events.zip’\n",
            "\n",
            "events.zip          100%[===================>]   2.77M  2.68MB/s    in 1.0s    \n",
            "\n",
            "2022-07-20 23:29:38 (2.68 MB/s) - ‘events.zip’ saved [2909538/2909538]\n",
            "\n"
          ]
        }
      ]
    },
    {
      "cell_type": "code",
      "source": [
        "import csv\n",
        "import numpy as np\n",
        "\n",
        "def caluculate_velocity(data):\n",
        "  times = data[:,[0]]\n",
        "  ts = []\n",
        "\n",
        "  # convert time to second\n",
        "  for t in times:\n",
        "    ts.append(float(t)/1000.0)\n",
        "  \n",
        "  Xs = data[:,[0]]\n",
        "  Ys = data[:,[1]]\n",
        "\n",
        "  diffX = [] #x values difference\n",
        "  diffY = [] #y values difference \n",
        "  diffT = [] #time values difference\n",
        "\n",
        "  # difX=x2-x1 and diffY=y2-y1\n",
        "  for i in range(len(data) - 1):\n",
        "    diffX.append(float(Xs[i+1]) - float(Xs[i]) )\n",
        "    diffY.append(float(Ys[i+1]) - float(Ys[i]) )\n",
        "    diffT.append(float(ts[i+1]) - float(ts[i]) )\n",
        "  \n",
        "  # distance = sqrt(x^2 + y^2)\n",
        "    distancex=diffX\n",
        "    distancey=diffY\n",
        "  #distancexx = np.sqrt(np.power(diffX,2) + np.power(diffY,2))\n",
        "  #distanceyy = np.sqrt(np.power(diffX,2) + np.power(diffY,2))\n",
        "\n",
        "  #print('distance=', distance)\n",
        "  #velocityx = np.divide(distancex,diffT)\n",
        "  #velocityy = np.divide(distancey,diffT)\n",
        "  velocityx=distancex\n",
        "  velocityy=distancey\n",
        "\n",
        "  #velocity_x = []\n",
        "  #velocity_y=[]\n",
        "\n",
        "  # calculate velocity\n",
        "  #vel_X=velocityx\n",
        "  #vel_Y=velocityy\n",
        "  #velocity = np.divide(distance,diffT)\n",
        "  velocityX = np.absolute(velocityx)\n",
        "  velocityY = np.absolute(velocityy)\n",
        "  \n",
        "\n",
        "  #velocity = distance\n",
        "  #velocity = diffX+diffY\n",
        "  #velocity=np.absolute((velocityX, velocityY))\n",
        "  #velocity = np.absolute(velocity)\n",
        "  #print('velocity=', velocity)\n",
        "  #print(('minimumu_velocity=',min(velocity)))\n",
        "  #print(('maximumu_velocity=',max(velocity)))\n",
        "\n",
        " # for v in velocity:\n",
        " #   print(v,v_threshold,v<v_threshold)\n",
        "  print('Time=', (diffT))\n",
        "  print('velocitX=', velocityX)\n",
        "  print('velocitY=', velocityY)\n",
        "\n",
        "  #mvmts = []\n",
        " \n",
        "  #store 1 in mvmts[] if velocity is less than threshold else store 2\n",
        "\n",
        "  return velocityX, velocityY\n",
        "  #print(velocity_x, velocity_y)\n",
        "\n",
        "\n",
        "\n"
      ],
      "metadata": {
        "id": "L4PrAqsg1BDm"
      },
      "execution_count": null,
      "outputs": []
    },
    {
      "cell_type": "code",
      "source": [
        "def openfile(filename):\n",
        "  mat = loadmat(filename)\n",
        "  mdata = mat['ETdata']\n",
        "  mtype = mdata.dtype\n",
        "  ndata = {n: mdata[n][0,0] for n in mtype.names}\n",
        "  ndata\n",
        "\n",
        "  data_headline = ndata['pos']\n",
        "  print(data_headline)\n",
        "  data_headline = data_headline[0]\n",
        "  data_raw = ndata['pos']\n",
        "  len(data_raw)\n",
        "  pdata = pd.DataFrame(data_raw,columns=data_headline)\n",
        "  print(pdata)\n",
        "  df=pd.DataFrame(pdata)\n",
        "  df=pd.DataFrame(pdata)\n",
        "  df.dtypes\n",
        "  df[1.0]=df[1.0].astype(int)\n",
        "  df[1.0].dtypes\n",
        "  x=pdata.iloc[:, 3:5].values\n",
        "  y=pdata.iloc[:, 5].values\n",
        "  x[0]\n",
        "  x.shape[0]\n",
        "  return x ,y"
      ],
      "metadata": {
        "id": "3jtHlD_oyzsq"
      },
      "execution_count": null,
      "outputs": []
    },
    {
      "cell_type": "code",
      "source": [
        "#files_to_load = ['data/TH34_img_Europe_labelled_MN.mat','data/TH34_video_BergoDalbana_labelled_MN.mat', 'data/UH27_img_vy_labelled_MN.mat']\n"
      ],
      "metadata": {
        "id": "V558O0ZQORCy"
      },
      "execution_count": null,
      "outputs": []
    },
    {
      "cell_type": "code",
      "source": [
        "#x,y=openfile('data/TH34_img_Europe_labelled_MN.mat')\n"
      ],
      "metadata": {
        "id": "_wSi_eaay6yo"
      },
      "execution_count": null,
      "outputs": []
    },
    {
      "cell_type": "code",
      "source": [
        "#x1, y1=openfile('data/UH33_img_vy_labelled_MN.mat')\n"
      ],
      "metadata": {
        "id": "Rj-sF_rz0cZN"
      },
      "execution_count": null,
      "outputs": []
    },
    {
      "cell_type": "code",
      "source": [
        "\n",
        "\n",
        "def open_list_of_files(files_to_load):\n",
        "  samples = []\n",
        "  labels =[]\n",
        "  for my_file in files_to_load:\n",
        "    sam,lab = openfile(my_file)\n",
        "    #ssam,slab = make_sequences(sam,lab,50)\n",
        "    print('Number of samples so far:',len(samples))\n",
        "    samples.extend(sam)\n",
        "    labels.extend(lab)\n",
        "  samples = np.array(samples)\n",
        "  labels = np.array(labels)\n",
        "  print('Number of samples at the end:',len(samples))\n",
        "  return samples,labels\n",
        "files_to_load = ['data/TH34_img_Europe_labelled_MN.mat','data/TH34_img_Europe_labelled_RA.mat']\n",
        "\n",
        "s,l = open_list_of_files(files_to_load)\n",
        "print(s.shape)\n",
        "print(l.shape)"
      ],
      "metadata": {
        "id": "El7AhVZ81Cm_",
        "colab": {
          "base_uri": "https://localhost:8080/"
        },
        "outputId": "dc962851-141c-4478-b1ab-c464a8c7b7f4"
      },
      "execution_count": null,
      "outputs": [
        {
          "output_type": "stream",
          "name": "stdout",
          "text": [
            "[[5.78164147e+09 1.90000000e+01 2.00000000e+01 5.22047500e+02\n",
            "  3.72409700e+02 1.00000000e+00]\n",
            " [5.78164347e+09 1.90000000e+01 2.00000000e+01 5.22633900e+02\n",
            "  3.71951700e+02 1.00000000e+00]\n",
            " [5.78164547e+09 1.90000000e+01 2.00000000e+01 5.23043200e+02\n",
            "  3.72464200e+02 1.00000000e+00]\n",
            " ...\n",
            " [5.79161349e+09 2.30000000e+01 2.50000000e+01 7.26554300e+02\n",
            "  6.79770400e+02 1.00000000e+00]\n",
            " [5.79161549e+09 2.30000000e+01 2.50000000e+01 7.26536700e+02\n",
            "  6.79873800e+02 1.00000000e+00]\n",
            " [5.79161749e+09 2.30000000e+01 2.50000000e+01 7.26183400e+02\n",
            "  6.79876200e+02 1.00000000e+00]]\n",
            "      5.781641e+09  1.900000e+01  2.000000e+01  5.220475e+02  3.724097e+02  \\\n",
            "0     5.781641e+09          19.0          20.0      522.0475      372.4097   \n",
            "1     5.781643e+09          19.0          20.0      522.6339      371.9517   \n",
            "2     5.781645e+09          19.0          20.0      523.0432      372.4642   \n",
            "3     5.781647e+09          19.0          20.0      523.3468      371.7407   \n",
            "4     5.781649e+09          18.0          20.0      523.7099      371.9111   \n",
            "...            ...           ...           ...           ...           ...   \n",
            "4983  5.791609e+09          23.0          25.0      727.5521      679.4586   \n",
            "4984  5.791611e+09          23.0          25.0      726.9385      679.0995   \n",
            "4985  5.791613e+09          23.0          25.0      726.5543      679.7704   \n",
            "4986  5.791615e+09          23.0          25.0      726.5367      679.8738   \n",
            "4987  5.791617e+09          23.0          25.0      726.1834      679.8762   \n",
            "\n",
            "      1.000000e+00  \n",
            "0              1.0  \n",
            "1              1.0  \n",
            "2              1.0  \n",
            "3              1.0  \n",
            "4              1.0  \n",
            "...            ...  \n",
            "4983           1.0  \n",
            "4984           1.0  \n",
            "4985           1.0  \n",
            "4986           1.0  \n",
            "4987           1.0  \n",
            "\n",
            "[4988 rows x 6 columns]\n",
            "Number of samples so far: 0\n",
            "[[5.78164147e+09 1.90000000e+01 2.00000000e+01 5.22047500e+02\n",
            "  3.72409700e+02 1.00000000e+00]\n",
            " [5.78164347e+09 1.90000000e+01 2.00000000e+01 5.22633900e+02\n",
            "  3.71951700e+02 1.00000000e+00]\n",
            " [5.78164547e+09 1.90000000e+01 2.00000000e+01 5.23043200e+02\n",
            "  3.72464200e+02 1.00000000e+00]\n",
            " ...\n",
            " [5.79161349e+09 2.30000000e+01 2.50000000e+01 7.26554300e+02\n",
            "  6.79770400e+02 1.00000000e+00]\n",
            " [5.79161549e+09 2.30000000e+01 2.50000000e+01 7.26536700e+02\n",
            "  6.79873800e+02 1.00000000e+00]\n",
            " [5.79161749e+09 2.30000000e+01 2.50000000e+01 7.26183400e+02\n",
            "  6.79876200e+02 1.00000000e+00]]\n",
            "      5.781641e+09  1.900000e+01  2.000000e+01  5.220475e+02  3.724097e+02  \\\n",
            "0     5.781641e+09          19.0          20.0      522.0475      372.4097   \n",
            "1     5.781643e+09          19.0          20.0      522.6339      371.9517   \n",
            "2     5.781645e+09          19.0          20.0      523.0432      372.4642   \n",
            "3     5.781647e+09          19.0          20.0      523.3468      371.7407   \n",
            "4     5.781649e+09          18.0          20.0      523.7099      371.9111   \n",
            "...            ...           ...           ...           ...           ...   \n",
            "4983  5.791609e+09          23.0          25.0      727.5521      679.4586   \n",
            "4984  5.791611e+09          23.0          25.0      726.9385      679.0995   \n",
            "4985  5.791613e+09          23.0          25.0      726.5543      679.7704   \n",
            "4986  5.791615e+09          23.0          25.0      726.5367      679.8738   \n",
            "4987  5.791617e+09          23.0          25.0      726.1834      679.8762   \n",
            "\n",
            "      1.000000e+00  \n",
            "0              1.0  \n",
            "1              1.0  \n",
            "2              1.0  \n",
            "3              1.0  \n",
            "4              1.0  \n",
            "...            ...  \n",
            "4983           1.0  \n",
            "4984           1.0  \n",
            "4985           1.0  \n",
            "4986           1.0  \n",
            "4987           1.0  \n",
            "\n",
            "[4988 rows x 6 columns]\n",
            "Number of samples so far: 4988\n",
            "Number of samples at the end: 9976\n",
            "(9976, 2)\n",
            "(9976,)\n"
          ]
        }
      ]
    },
    {
      "cell_type": "code",
      "source": [
        "vx,vy=caluculate_velocity(x)\n",
        "#vx1,vy1=caluculate_velocity(x1)\n",
        "\n",
        "\n",
        "\n",
        "print(len(vx))\n",
        "print(vx[0])\n",
        "print(np.array(vx).shape)\n",
        "print(np.array(vy).shape)\n",
        "#print(len(vx1))\n",
        "#print(vx1[0])\n",
        "#print(np.array(vx1).shape)\n",
        "#print(np.array(vy1).shape)\n"
      ],
      "metadata": {
        "id": "vBl-g8XwyNpy"
      },
      "execution_count": null,
      "outputs": []
    },
    {
      "cell_type": "code",
      "source": [
        "y = np.array(y[:-1])\n",
        "#y1 = np.array(y1[:-1])"
      ],
      "metadata": {
        "id": "aWaVz4PhyR3Z"
      },
      "execution_count": null,
      "outputs": []
    },
    {
      "cell_type": "code",
      "source": [
        "com = np.vstack((vx,vy)).T\n",
        "#com1 = np.vstack((vx1,vy1)).T\n"
      ],
      "metadata": {
        "id": "1YFq-sUryX2c"
      },
      "execution_count": null,
      "outputs": []
    },
    {
      "cell_type": "code",
      "source": [
        "# sequence \n",
        "def make_sequences(samples, labels, sequence_dim = 100, sequence_lag = 1, sequence_attributes = 2):\n",
        "    nsamples = []\n",
        "    nlabels = [] \n",
        "    for i in range(0,samples.shape[0]-sequence_dim,sequence_lag):\n",
        "            nsample = np.zeros((sequence_dim,sequence_attributes))\n",
        "            for j in range(i,i+sequence_dim):\n",
        "                nsample[j-i,0] = samples[j,0]\n",
        "                nsample[j-i,1] = samples[j,1]\n",
        "            nlabel = labels[i+sequence_dim//2]\n",
        "            #print(\"Sample\",nsample)\n",
        "            #print(\"Label\",nlabel)\n",
        "            nsamples.append(nsample)\n",
        "            nlabels.append(nlabel)\n",
        "        \n",
        "    samples = np.array(nsamples)\n",
        "    labels = np.array(nlabels)\n",
        "    return samples,labels "
      ],
      "metadata": {
        "id": "on5MTMvXyani"
      },
      "execution_count": null,
      "outputs": []
    },
    {
      "cell_type": "code",
      "source": [
        "sequence_dim = 100\n",
        "print(\"Samples shape before sequencing\",com.shape)\n",
        "\n",
        "print(\"Converting to sequences of length {}\".format(sequence_dim))\n",
        "x, y = make_sequences(com, y, sequence_dim)\n",
        "print(\"Samples shape after sequencing: {}\".format(x.shape))\n",
        "print(\"Labels shape after sequencing: {}\".format(y.shape))"
      ],
      "metadata": {
        "colab": {
          "base_uri": "https://localhost:8080/"
        },
        "id": "nfVbYkzkye_p",
        "outputId": "82c03810-fda3-4a0b-a6d8-84b0c8fb6c57"
      },
      "execution_count": null,
      "outputs": [
        {
          "output_type": "stream",
          "name": "stdout",
          "text": [
            "Samples shape before sequencing (4987, 2)\n",
            "Converting to sequences of length 100\n",
            "Samples shape after sequencing: (4887, 100, 2)\n",
            "Labels shape after sequencing: (4887,)\n"
          ]
        }
      ]
    },
    {
      "cell_type": "code",
      "source": [
        "\n",
        "#print(\"Samples shape before sequencing\",com1.shape)\n",
        "#print(\"Converting to sequences of length {}\".format(sequence_dim))\n",
        "#x1,y1 = make_sequences(com1, y1, sequence_dim)\n",
        "#print(\"Samples shape after sequencing: {}\".format(x1.shape))\n",
        "#print(\"Labels shape after sequencing: {}\".format(y1.shape))"
      ],
      "metadata": {
        "id": "AH5Mvx69yh3T"
      },
      "execution_count": null,
      "outputs": []
    },
    {
      "cell_type": "code",
      "source": [
        ""
      ],
      "metadata": {
        "id": "n9zHpdbp3OaI"
      },
      "execution_count": null,
      "outputs": []
    },
    {
      "cell_type": "code",
      "source": [
        "#x,y=openfile('data/UH27_img_vy_labelled_MN.mat')\n",
        "#x,y=openfile('data/UH33_img_vy_labelled_MN.mat')\n",
        "#x,y=openfile('data/UH33_img_vy_labelled_MN.mat')\n"
      ],
      "metadata": {
        "id": "FPY4w1pf3Suf"
      },
      "execution_count": null,
      "outputs": []
    },
    {
      "cell_type": "code",
      "source": [
        "#x1, y1=openfile('data/TH34_img_Europe_labelled_MN.mat')\n",
        "#x1,y1=openfile('data/UH33_img_vy_labelled_MN.mat')\n",
        "\n",
        "#x1, y1=openfile('UH47_video_BergoDalbana_labelled_RA.mat')(test good with 30 MN training)\n"
      ],
      "metadata": {
        "id": "eeqS1Rfc4oRk"
      },
      "execution_count": null,
      "outputs": []
    },
    {
      "cell_type": "code",
      "source": [
        "y.shape"
      ],
      "metadata": {
        "colab": {
          "base_uri": "https://localhost:8080/"
        },
        "id": "qvrQcQCqymgG",
        "outputId": "4354e282-5be6-4741-871a-85481e4f1655"
      },
      "execution_count": null,
      "outputs": [
        {
          "output_type": "execute_result",
          "data": {
            "text/plain": [
              "(4887,)"
            ]
          },
          "metadata": {},
          "execution_count": 60
        }
      ]
    },
    {
      "cell_type": "code",
      "source": [
        "#x=np.reshape(x,(4938, 50,2,1))"
      ],
      "metadata": {
        "id": "a0ZQxn0sXfNH"
      },
      "execution_count": null,
      "outputs": []
    },
    {
      "cell_type": "code",
      "source": [
        "#x1=np.reshape(x1,(4938, 50,2,1))"
      ],
      "metadata": {
        "id": "v6vpATY7HnGk"
      },
      "execution_count": null,
      "outputs": []
    },
    {
      "cell_type": "code",
      "source": [
        "#x1.shape, x.shape"
      ],
      "metadata": {
        "id": "eRz3PeHYH4r8"
      },
      "execution_count": null,
      "outputs": []
    },
    {
      "cell_type": "code",
      "source": [
        "from tensorflow.keras.layers import BatchNormalization\n",
        "from sklearn.preprocessing import LabelBinarizer\n",
        "lb = LabelBinarizer()\n",
        "lb.fit(y)\n",
        "y = lb.transform(y)\n",
        "#y1 = lb.transform(y1)\n"
      ],
      "metadata": {
        "id": "CZLIFNfU3vzr"
      },
      "execution_count": null,
      "outputs": []
    },
    {
      "cell_type": "code",
      "source": [
        "y.shape[0]"
      ],
      "metadata": {
        "colab": {
          "base_uri": "https://localhost:8080/"
        },
        "id": "ODhl9ud02Jr3",
        "outputId": "6546d001-fcce-4382-af7c-e715df990016"
      },
      "execution_count": null,
      "outputs": [
        {
          "output_type": "execute_result",
          "data": {
            "text/plain": [
              "4887"
            ]
          },
          "metadata": {},
          "execution_count": 65
        }
      ]
    },
    {
      "cell_type": "code",
      "source": [
        "kf=KFold(n_splits=4)\n",
        "for train_index, test_index in kf.split(x):\n",
        "    print(train_index, test_index)"
      ],
      "metadata": {
        "id": "lhLUuooU6s7g"
      },
      "execution_count": null,
      "outputs": []
    },
    {
      "cell_type": "code",
      "source": [
        "def get_score(model, x_train, x_test, y_train, y_test):\n",
        "    model.fit(x_train, y_train)\n",
        "    return model.score(x_test, y_test)"
      ],
      "metadata": {
        "id": "E_ijbZ6x7XHE"
      },
      "execution_count": null,
      "outputs": []
    },
    {
      "cell_type": "code",
      "source": [
        "get_score(model, x_train, x_test, y_train, y_test)"
      ],
      "metadata": {
        "id": "Ea7oN9Xs7wYW"
      },
      "execution_count": null,
      "outputs": []
    },
    {
      "cell_type": "code",
      "source": [
        "#kf=KFold(n_splits=4)\n",
        "#oos_Y=[]\n",
        "#oos_pred=[]\n",
        "#fold=0\n",
        "#for train, test in kf.split(X):\n",
        "  #fold+=1\n",
        " # print(f'fold #{fold}')\n",
        "  #x_train=X[train]\n",
        "  #y_train=Y[train]\n",
        "  #x_test=X[test]\n",
        "  #y_test=Y[test]"
      ],
      "metadata": {
        "id": "fOgl3Fpu1Vpd"
      },
      "execution_count": null,
      "outputs": []
    },
    {
      "cell_type": "code",
      "source": [
        "model = Sequential()\n",
        "inputShap=(100,2)\n",
        "model.add(LSTM(128, input_shape=(inputShap),return_sequences=True))\n",
        "model.add(Activation(\"relu\"))\n",
        "model.add(BatchNormalization())\n",
        "model.add(Dropout(0.2))\n",
        "\n",
        "model.add(LSTM(64, activation='relu'))\n",
        "#model.add(Activation(\"relu\"))\n",
        "model.add(BatchNormalization())\n",
        "model.add(Dropout(0.2))\n",
        "#model.add(Flatten())\n",
        "\n",
        "model.add(Dense(64, activation='sigmoid'))\n",
        "model.add(Dense(y.shape[1], activation='softmax'))\n",
        "print(inputShap)\n",
        "model.summary()\n"
      ],
      "metadata": {
        "colab": {
          "base_uri": "https://localhost:8080/"
        },
        "id": "e0Z35TUOENWP",
        "outputId": "9d9185f6-1038-4fee-d944-ae779f567b4d"
      },
      "execution_count": null,
      "outputs": [
        {
          "output_type": "stream",
          "name": "stdout",
          "text": [
            "(100, 2)\n",
            "Model: \"sequential_4\"\n",
            "_________________________________________________________________\n",
            " Layer (type)                Output Shape              Param #   \n",
            "=================================================================\n",
            " lstm_8 (LSTM)               (None, 100, 128)          67072     \n",
            "                                                                 \n",
            " activation_4 (Activation)   (None, 100, 128)          0         \n",
            "                                                                 \n",
            " batch_normalization_8 (Batc  (None, 100, 128)         512       \n",
            " hNormalization)                                                 \n",
            "                                                                 \n",
            " dropout_8 (Dropout)         (None, 100, 128)          0         \n",
            "                                                                 \n",
            " lstm_9 (LSTM)               (None, 64)                49408     \n",
            "                                                                 \n",
            " batch_normalization_9 (Batc  (None, 64)               256       \n",
            " hNormalization)                                                 \n",
            "                                                                 \n",
            " dropout_9 (Dropout)         (None, 64)                0         \n",
            "                                                                 \n",
            " dense_8 (Dense)             (None, 64)                4160      \n",
            "                                                                 \n",
            " dense_9 (Dense)             (None, 3)                 195       \n",
            "                                                                 \n",
            "=================================================================\n",
            "Total params: 121,603\n",
            "Trainable params: 121,219\n",
            "Non-trainable params: 384\n",
            "_________________________________________________________________\n"
          ]
        }
      ]
    },
    {
      "cell_type": "code",
      "source": [
        "from sklearn.model_selection import train_test_split\n",
        "x_train, x_test, y_train, y_test =train_test_split(x, y, test_size=0.25)"
      ],
      "metadata": {
        "id": "-Xc7FwgiNhpy"
      },
      "execution_count": null,
      "outputs": []
    },
    {
      "cell_type": "code",
      "source": [
        "model.compile(loss='categorical_crossentropy', optimizer=\"adam\",metrics=['accuracy'])\n",
        "\n",
        "\n",
        "    \n"
      ],
      "metadata": {
        "id": "d2X5LNJ3mB-W"
      },
      "execution_count": null,
      "outputs": []
    },
    {
      "cell_type": "code",
      "source": [
        "model.fit(x_train, y_train, epochs=15\n",
        "              ,validation_data=(x_test,y_test)\n",
        "              )"
      ],
      "metadata": {
        "colab": {
          "base_uri": "https://localhost:8080/"
        },
        "id": "EvOIjuGw4-Iq",
        "outputId": "b4cdf42c-e7ce-4635-d5fa-a88b77b67256"
      },
      "execution_count": null,
      "outputs": [
        {
          "output_type": "stream",
          "name": "stdout",
          "text": [
            "Epoch 1/15\n",
            "115/115 [==============================] - 25s 187ms/step - loss: 0.5644 - accuracy: 0.7662 - val_loss: 0.4777 - val_accuracy: 0.8609\n",
            "Epoch 2/15\n",
            "115/115 [==============================] - 21s 180ms/step - loss: 0.1970 - accuracy: 0.9220 - val_loss: 0.4536 - val_accuracy: 0.8609\n",
            "Epoch 3/15\n",
            "115/115 [==============================] - 21s 185ms/step - loss: 0.1430 - accuracy: 0.9449 - val_loss: 0.3320 - val_accuracy: 0.8609\n",
            "Epoch 4/15\n",
            "115/115 [==============================] - 21s 183ms/step - loss: 0.1389 - accuracy: 0.9441 - val_loss: 0.4415 - val_accuracy: 0.8609\n",
            "Epoch 5/15\n",
            "115/115 [==============================] - 21s 182ms/step - loss: 0.1355 - accuracy: 0.9476 - val_loss: 0.2441 - val_accuracy: 0.9075\n",
            "Epoch 6/15\n",
            "115/115 [==============================] - 21s 183ms/step - loss: 0.1266 - accuracy: 0.9473 - val_loss: 0.1439 - val_accuracy: 0.9378\n",
            "Epoch 7/15\n",
            "115/115 [==============================] - 21s 182ms/step - loss: 0.1128 - accuracy: 0.9558 - val_loss: 0.0833 - val_accuracy: 0.9681\n",
            "Epoch 8/15\n",
            "115/115 [==============================] - 21s 185ms/step - loss: 0.1080 - accuracy: 0.9588 - val_loss: 0.0816 - val_accuracy: 0.9673\n",
            "Epoch 9/15\n",
            "115/115 [==============================] - 21s 186ms/step - loss: 0.1084 - accuracy: 0.9558 - val_loss: 0.1303 - val_accuracy: 0.9583\n",
            "Epoch 10/15\n",
            "115/115 [==============================] - 21s 183ms/step - loss: 0.1027 - accuracy: 0.9574 - val_loss: 0.0848 - val_accuracy: 0.9673\n",
            "Epoch 11/15\n",
            "115/115 [==============================] - 21s 183ms/step - loss: 0.0959 - accuracy: 0.9583 - val_loss: 0.0826 - val_accuracy: 0.9705\n",
            "Epoch 12/15\n",
            "115/115 [==============================] - 21s 181ms/step - loss: 0.1056 - accuracy: 0.9547 - val_loss: 0.2079 - val_accuracy: 0.9239\n",
            "Epoch 13/15\n",
            "115/115 [==============================] - 21s 181ms/step - loss: 0.0868 - accuracy: 0.9632 - val_loss: 0.0830 - val_accuracy: 0.9648\n",
            "Epoch 14/15\n",
            "115/115 [==============================] - 21s 180ms/step - loss: 0.0831 - accuracy: 0.9629 - val_loss: 0.1083 - val_accuracy: 0.9632\n",
            "Epoch 15/15\n",
            "115/115 [==============================] - 21s 181ms/step - loss: 0.0875 - accuracy: 0.9648 - val_loss: 0.0922 - val_accuracy: 0.9566\n"
          ]
        },
        {
          "output_type": "execute_result",
          "data": {
            "text/plain": [
              "<keras.callbacks.History at 0x7fabe2d65090>"
            ]
          },
          "metadata": {},
          "execution_count": 69
        }
      ]
    },
    {
      "cell_type": "code",
      "source": [
        "y1_pred = model.predict(x_test)\n",
        "print(confusion_matrix(y_test.argmax(axis=1), y1_pred.argmax(axis=1)))\n",
        "print(classification_report(y_test.argmax(axis=1), y1_pred.argmax(axis=1)))\n",
        "CM=(confusion_matrix(y_test.argmax(axis=1), y1_pred.argmax(axis=1)))\n",
        "print(\"CNN Accuracy: {:.2f}\".format(accuracy_score(y_test.argmax(axis=1), y1_pred.argmax(axis=1))))\n",
        "print(\"Cohen's Kappa {:.2f}\".format(cohen_kappa_score(y_test.argmax(axis=1), y1_pred.argmax(axis=1))))"
      ],
      "metadata": {
        "colab": {
          "base_uri": "https://localhost:8080/"
        },
        "id": "1idJLeCjPy-3",
        "outputId": "6c2e7c05-8ca8-4012-c744-ee4b6fcfc75d"
      },
      "execution_count": null,
      "outputs": [
        {
          "output_type": "stream",
          "name": "stdout",
          "text": [
            "[[1019   30    3]\n",
            " [   6  111    7]\n",
            " [   5    2   39]]\n",
            "              precision    recall  f1-score   support\n",
            "\n",
            "           0       0.99      0.97      0.98      1052\n",
            "           1       0.78      0.90      0.83       124\n",
            "           2       0.80      0.85      0.82        46\n",
            "\n",
            "    accuracy                           0.96      1222\n",
            "   macro avg       0.85      0.90      0.88      1222\n",
            "weighted avg       0.96      0.96      0.96      1222\n",
            "\n",
            "CNN Accuracy: 0.96\n",
            "Cohen's Kappa 0.83\n"
          ]
        }
      ]
    }
  ]
}