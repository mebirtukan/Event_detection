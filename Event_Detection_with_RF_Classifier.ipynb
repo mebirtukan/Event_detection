{
  "nbformat": 4,
  "nbformat_minor": 0,
  "metadata": {
    "colab": {
      "name": "Event_Detection_with RF_Classifier.ipynb",
      "provenance": [],
      "collapsed_sections": [],
      "include_colab_link": true
    },
    "kernelspec": {
      "name": "python3",
      "display_name": "Python 3"
    },
    "language_info": {
      "name": "python"
    }
  },
  "cells": [
    {
      "cell_type": "markdown",
      "metadata": {
        "id": "view-in-github",
        "colab_type": "text"
      },
      "source": [
        "<a href=\"https://colab.research.google.com/github/mebirtukan/Event_detection/blob/main/Event_Detection_with_RF_Classifier.ipynb\" target=\"_parent\"><img src=\"https://colab.research.google.com/assets/colab-badge.svg\" alt=\"Open In Colab\"/></a>"
      ]
    },
    {
      "cell_type": "code",
      "metadata": {
        "id": "LPxGKhtEcsX-"
      },
      "source": [
        "from scipy.io import loadmat\n",
        "import pandas as pd\n",
        "import numpy as np\n",
        "import matplotlib as mpl\n",
        "import matplotlib.pyplot as plt\n",
        "from sklearn.model_selection import train_test_split\n",
        "from tensorflow.keras.preprocessing.sequence import  TimeseriesGenerator\n",
        "from sklearn.preprocessing import MinMaxScaler, StandardScaler\n",
        "import tensorflow as tf\n",
        "from sklearn.metrics import f1_score \n",
        "\n",
        "import os\n",
        "import glob\n",
        "import seaborn as sns"
      ],
      "execution_count": null,
      "outputs": []
    },
    {
      "cell_type": "code",
      "source": [
        "!wget www.kasprowski.pl/datasets/events.zip\n",
        "!unzip events.zip > xx"
      ],
      "metadata": {
        "colab": {
          "base_uri": "https://localhost:8080/"
        },
        "id": "LR8h5__AVJvg",
        "outputId": "ff8dacc1-cccd-4f28-c398-377bb02f99e7"
      },
      "execution_count": null,
      "outputs": [
        {
          "output_type": "stream",
          "name": "stdout",
          "text": [
            "--2022-07-28 11:21:35--  http://www.kasprowski.pl/datasets/events.zip\n",
            "Resolving www.kasprowski.pl (www.kasprowski.pl)... 94.152.164.213\n",
            "Connecting to www.kasprowski.pl (www.kasprowski.pl)|94.152.164.213|:80... connected.\n",
            "HTTP request sent, awaiting response... 200 OK\n",
            "Length: 2909538 (2.8M) [application/zip]\n",
            "Saving to: ‘events.zip’\n",
            "\n",
            "events.zip          100%[===================>]   2.77M  2.60MB/s    in 1.1s    \n",
            "\n",
            "2022-07-28 11:21:37 (2.60 MB/s) - ‘events.zip’ saved [2909538/2909538]\n",
            "\n"
          ]
        }
      ]
    },
    {
      "cell_type": "code",
      "source": [
        "def openfile(filename):\n",
        "  mat = loadmat(filename)\n",
        "  mdata = mat['ETdata']\n",
        "  mtype = mdata.dtype\n",
        "  ndata = {n: mdata[n][0,0] for n in mtype.names}\n",
        "  data_headline = ndata['pos']\n",
        "  data_headline = data_headline[0]\n",
        "  data_raw = ndata['pos']\n",
        "  pdata = pd.DataFrame(data_raw,columns=data_headline)\n",
        "  df=pd.DataFrame(pdata)\n",
        "  df[1.0]=df[1.0].astype(int)\n",
        "  #t=pdata.iloc[:, 0].values maybe we should use it...\n",
        "  x=pdata.iloc[:, 3:5].values\n",
        "  y=pdata.iloc[:, 5].values\n",
        "  print(\"File\",filename,\"opened\")\n",
        "  return x ,y"
      ],
      "metadata": {
        "id": "z_49FFAF4XSU"
      },
      "execution_count": null,
      "outputs": []
    },
    {
      "cell_type": "code",
      "source": [
        "# data has two coordinates: X,Y returns velX and velY\n",
        "def calc_xy_velocity(data):\n",
        "  velX = [] #x values difference\n",
        "  velY = [] #y values difference \n",
        "\n",
        "  for i in range(len(data) - 1):\n",
        "    velX.append(float(data[i+1,0]) - float(data[i,0]) ) # 2ms!\n",
        "    velY.append(float(data[i+1,1]) - float(data[i,1]) )\n",
        "  velX = np.array(velX)\n",
        "  velY = np.array(velY)\n",
        "  velocity = np.vstack([velX,velY]).T\n",
        "  return velocity\n",
        "\n",
        "# data has two coordinates: X,Y returns ONE velocity\n",
        "def calc_velocity(data):\n",
        "  velX = [] #x values difference\n",
        "  velY = [] #y values difference \n",
        "  for i in range(len(data) - 1):\n",
        "    velX.append(float(data[i+1,0]) - float(data[i,0]) ) # 2ms!\n",
        "    velY.append(float(data[i+1,1]) - float(data[i,1]) )\n",
        "  velX = np.array(velX)\n",
        "  velY = np.array(velY)\n",
        "  velocity = np.sqrt(np.power(velX,2) + np.power(velY,2))\n",
        "  print(velocity.shape)  \n",
        "  return velocity"
      ],
      "metadata": {
        "id": "RfjPQDs6mjGC"
      },
      "execution_count": null,
      "outputs": []
    },
    {
      "cell_type": "code",
      "source": [
        "\n",
        "\n",
        "def open_list_of_files(files_to_load):\n",
        "  samples = []\n",
        "  labels =[]\n",
        "  for my_file in files_to_load:\n",
        "    sam,lab = openfile(my_file)\n",
        "    #ssam,slab = make_sequences(sam,lab,50)\n",
        "    print('Number of samples so far:',len(samples))\n",
        "    samples.extend(sam)\n",
        "    labels.extend(lab)\n",
        "  samples = np.array(samples)\n",
        "  labels = np.array(labels)\n",
        "  print('Number of samples at the end:',len(samples))\n",
        "  return samples,labels\n",
        "# files_to_load = ['data/UH33_img_vy_labelled_MN.mat','data/UH27_img_vy_labelled_MN.mat', 'data/UL31_img_konijntjes_labelled_MN.mat']\n",
        "# files_to_load1 = ['data/TH34_img_Europe_labelled_MN.mat', 'data/UH21_img_Rome_labelled_MN.mat']\n",
        "files_to_load = ['data/UH21_img_Rome_labelled_MN.mat']\n",
        "files_to_load1 = ['data/TH34_img_Europe_labelled_MN.mat']\n",
        "\n",
        "s,l = open_list_of_files(files_to_load)\n",
        "s1,l1=open_list_of_files(files_to_load1)\n",
        "print(s.shape)\n",
        "print(l.shape)\n",
        "print(s1.shape)\n",
        "print(l1.shape)"
      ],
      "metadata": {
        "colab": {
          "base_uri": "https://localhost:8080/"
        },
        "id": "8FCmTBPkLSoh",
        "outputId": "c2f08f8d-6f4b-4b94-a19b-d4897ffc499f"
      },
      "execution_count": null,
      "outputs": [
        {
          "output_type": "stream",
          "name": "stdout",
          "text": [
            "File data/UH21_img_Rome_labelled_MN.mat opened\n",
            "Number of samples so far: 0\n",
            "Number of samples at the end: 4988\n",
            "File data/TH34_img_Europe_labelled_MN.mat opened\n",
            "Number of samples so far: 0\n",
            "Number of samples at the end: 4988\n",
            "(4988, 2)\n",
            "(4988,)\n",
            "(4988, 2)\n",
            "(4988,)\n"
          ]
        }
      ]
    },
    {
      "cell_type": "code",
      "source": [
        "# simple visualization\n",
        "plt.plot(s)\n",
        "plt.show()\n",
        "s = calc_xy_velocity(s)\n",
        "s1 = calc_xy_velocity(s1)\n",
        "plt.plot(s)"
      ],
      "metadata": {
        "id": "gDtvXq9B4aUz",
        "colab": {
          "base_uri": "https://localhost:8080/",
          "height": 663
        },
        "outputId": "131cd7da-d977-4cd8-b691-08b2b964f361"
      },
      "execution_count": null,
      "outputs": [
        {
          "output_type": "display_data",
          "data": {
            "text/plain": [
              "<Figure size 432x288 with 1 Axes>"
            ],
            "image/png": "[encoded data removed]"
          },
          "metadata": {
            "needs_background": "light"
          }
        },
        {
          "output_type": "stream",
          "name": "stdout",
          "text": [
            "(4987,)\n",
            "(4987,)\n",
            "(4987, 2)\n",
            "(4987,)\n",
            "(4987,)\n",
            "(4987, 2)\n"
          ]
        },
        {
          "output_type": "execute_result",
          "data": {
            "text/plain": [
              "[<matplotlib.lines.Line2D at 0x7efec050b650>,\n",
              " <matplotlib.lines.Line2D at 0x7efec050b890>]"
            ]
          },
          "metadata": {},
          "execution_count": 111
        },
        {
          "output_type": "display_data",
          "data": {
            "text/plain": [
              "<Figure size 432x288 with 1 Axes>"
            ],
            "image/png": "[encoded data removed]"
          },
          "metadata": {
            "needs_background": "light"
          }
        }
      ]
    },
    {
      "cell_type": "code",
      "metadata": {
        "id": "vkqeVLUuPto_"
      },
      "source": [
        "# sequence \n",
        "def make_sequences(samples, labels, sequence_dim = 100, sequence_lag = 1, sequence_attributes = 2):\n",
        "    nsamples = []\n",
        "    nlabels = [] \n",
        "    for i in range(0,samples.shape[0]-sequence_dim,sequence_lag):\n",
        "            nsample = np.zeros((sequence_dim,sequence_attributes))\n",
        "            for j in range(i,i+sequence_dim):\n",
        "                nsample[j-i,0] = samples[j,0]\n",
        "                nsample[j-i,1] = samples[j,1]\n",
        "            nlabel = labels[i+sequence_dim//2]\n",
        "            nsamples.append(nsample)\n",
        "            nlabels.append(nlabel)\n",
        "        \n",
        "    samples = np.array(nsamples)\n",
        "    labels = np.array(nlabels)\n",
        "    return samples,labels "
      ],
      "execution_count": null,
      "outputs": []
    },
    {
      "cell_type": "code",
      "source": [
        "sequence_dim = 50\n",
        "print(\"Converting to sequences of length {}\".format(sequence_dim))\n",
        "x,y = make_sequences(s, l, sequence_dim)\n",
        "x1,y1 = make_sequences(s1, l1, sequence_dim)\n",
        "print(\"done:\",x.shape )"
      ],
      "metadata": {
        "colab": {
          "base_uri": "https://localhost:8080/"
        },
        "id": "PmSLYq5BVsIp",
        "outputId": "69593cff-4ff4-46cb-e722-b33f74167058"
      },
      "execution_count": null,
      "outputs": [
        {
          "output_type": "stream",
          "name": "stdout",
          "text": [
            "Converting to sequences of length 50\n",
            "done: (4937, 50, 2)\n"
          ]
        }
      ]
    },
    {
      "cell_type": "code",
      "source": [
        "x = x.reshape(-1, sequence_dim*2)\n",
        "x1 = x1.reshape(-1, sequence_dim*2)\n",
        "\n",
        "x.shape"
      ],
      "metadata": {
        "id": "PC3dCx0NVNWh",
        "colab": {
          "base_uri": "https://localhost:8080/"
        },
        "outputId": "246ffb91-f68e-4302-fba4-ca7dad0c2bf1"
      },
      "execution_count": null,
      "outputs": [
        {
          "output_type": "execute_result",
          "data": {
            "text/plain": [
              "(4937, 100)"
            ]
          },
          "metadata": {},
          "execution_count": 113
        }
      ]
    },
    {
      "cell_type": "code",
      "metadata": {
        "id": "xN6rhBjnCWzF",
        "colab": {
          "base_uri": "https://localhost:8080/"
        },
        "outputId": "7646bbf6-144b-4da8-9413-78c18e98bdc3"
      },
      "source": [
        "from sklearn import ensemble\n",
        "from sklearn.metrics import classification_report, confusion_matrix\n",
        "#RF=OneVsRestClassifier(RandomForestClassifier(max_features=0.2))\n",
        "RF=ensemble.RandomForestClassifier()\n",
        "\n",
        "# from sklearn.neighbors import KNeighborsClassifier\n",
        "# RF = KNeighborsClassifier(n_neighbors=5)\n",
        "RF.fit(x, y)\n",
        "y1_pred=RF.predict(x1)\n",
        "print(classification_report(y1, y1_pred))\n",
        "print(confusion_matrix(y1, y1_pred))\n",
        "CM=confusion_matrix(y1, y1_pred)\n",
        "sumf=CM[0][0]+CM[0][1]+CM[0][2]\n",
        "#print(sum)\n",
        "Tcf=CM[0][0]\n",
        "FIX_AC=Tcf*100/sumf\n",
        "print(\"FIX acc\",FIX_AC)\n",
        "sum_sac=CM[1][0]+CM[1][1]+CM[1][2]\n",
        "Tc_sac=CM[1][1]\n",
        "SACCADE_AA=(Tc_sac*100/sum_sac)\n",
        "print(\"SAC acc\",SACCADE_AA)\n",
        "sum_PSO=CM[2][0]+CM[2][1]+CM[2][2]\n",
        "#print(sum)\n",
        "Tc_PSO=CM[2][2]\n",
        "PSO_AC=Tc_PSO*100/sum_PSO\n",
        "print(\"PSO acc\",PSO_AC)\n"
      ],
      "execution_count": null,
      "outputs": [
        {
          "output_type": "stream",
          "name": "stdout",
          "text": [
            "              precision    recall  f1-score   support\n",
            "\n",
            "           1       0.99      0.99      0.99      4231\n",
            "           2       0.93      0.98      0.95       503\n",
            "           3       0.79      0.77      0.78       203\n",
            "\n",
            "    accuracy                           0.98      4937\n",
            "   macro avg       0.90      0.91      0.91      4937\n",
            "weighted avg       0.98      0.98      0.98      4937\n",
            "\n",
            "[[4177   19   35]\n",
            " [   5  492    6]\n",
            " [  27   20  156]]\n",
            "FIX acc 98.72370597967384\n",
            "SAC acc 97.8131212723658\n",
            "PSO acc 76.84729064039409\n"
          ]
        }
      ]
    },
    {
      "cell_type": "code",
      "source": [
        "from sklearn.metrics import confusion_matrix, classification_report, accuracy_score, cohen_kappa_score\n",
        "print(cohen_kappa_score(y1, y1_pred))\n"
      ],
      "metadata": {
        "colab": {
          "base_uri": "https://localhost:8080/"
        },
        "id": "LfiARSEfxJcL",
        "outputId": "690d3aae-ad3d-4028-91bf-fe206d28eac9"
      },
      "execution_count": null,
      "outputs": [
        {
          "output_type": "stream",
          "name": "stdout",
          "text": [
            "0.9061298280694694\n"
          ]
        }
      ]
    },
    {
      "cell_type": "code",
      "source": [
        "cm_normalized=np.round(CM/np.sum(CM, axis=1).reshape(-1, 1), 2)\n",
        "print(cm_normalized)\n",
        "sns.heatmap(cm_normalized, cmap='Blues', annot=True, cbar_kws={\"orientation\": \"vertical\", \"label\": \"color bar\"}, xticklabels=['fix','sac','pso'], yticklabels=['fix', 'sac', 'pso'])\n",
        "plt.xlabel(\"predicted value\")\n",
        "plt.ylabel(\"Actual value\")\n",
        "plt.show()"
      ],
      "metadata": {
        "id": "u4QhEab3S47c",
        "colab": {
          "base_uri": "https://localhost:8080/",
          "height": 334
        },
        "outputId": "8fbda944-45d3-49e5-ca53-d9efe199c5e0"
      },
      "execution_count": null,
      "outputs": [
        {
          "output_type": "stream",
          "name": "stdout",
          "text": [
            "[[0.99 0.   0.01]\n",
            " [0.01 0.98 0.01]\n",
            " [0.13 0.1  0.77]]\n"
          ]
        },
        {
          "output_type": "display_data",
          "data": {
            "text/plain": [
              "<Figure size 432x288 with 2 Axes>"
            ],
            "image/png": "[encoded data removed]"
          },
          "metadata": {
            "needs_background": "light"
          }
        }
      ]
    },
    {
      "cell_type": "code",
      "source": [
        "#### OLD WASTE BELOW ####"
      ],
      "metadata": {
        "id": "tOvlkN534Y8e"
      },
      "execution_count": null,
      "outputs": []
    },
    {
      "cell_type": "markdown",
      "source": [
        "#### OLD WASTE BELOW ####"
      ],
      "metadata": {
        "id": "SX_1Od6yyvRR"
      }
    },
    {
      "cell_type": "code",
      "source": [
        "#Normalize the data\n",
        "#from sklearn.preprocessing import MinMaxScaler\n",
        "#min_max_scaler=MinMaxScaler()\n",
        "#X_train_norm=min_max_scaler.fit_transform(x)\n",
        "#X_test_norm=min_max_scaler.fit_transform(x1)"
      ],
      "metadata": {
        "id": "7naDhyb0SVAi"
      },
      "execution_count": null,
      "outputs": []
    },
    {
      "cell_type": "code",
      "source": [
        "from sklearn.multiclass import OneVsRestClassifier\n",
        "from sklearn.ensemble import RandomForestClassifier\n",
        "from sklearn.metrics import roc_curve,auc"
      ],
      "metadata": {
        "id": "zBa0JiDYTcA-"
      },
      "execution_count": null,
      "outputs": []
    },
    {
      "cell_type": "code",
      "source": [
        "#Random Forest Classifier\n",
        "#because we are dealing with multiclass data and so, the one versus rest strategy is used.\n",
        "#learn to predict each class against the other.\n",
        "\n",
        "#RF=OneVsRestClassifier(RandomForestClassifier(max_features=0.2))\n",
        "#RF.fit(X_train_norm,y)\n",
        "#y_pred =RF.predict(X_test_norm)\n",
        "#pred_prob = RF.predict_proba(X_test_norm)"
      ],
      "metadata": {
        "id": "99xXQL21TlK3"
      },
      "execution_count": null,
      "outputs": []
    },
    {
      "cell_type": "code",
      "source": [
        "#from sklearn.preprocessing import label_binarize\n",
        "#binarize the y_values\n",
        "\n",
        "#y_test_binarized=label_binarize(y1,classes=np.unique(y1))\n",
        "\n",
        "# roc curve for classes\n",
        "#fpr = {}\n",
        "#tpr = {}\n",
        "#thresh ={}\n",
        "#roc_auc = dict()\n",
        "\n",
        "#n_class = classes.shape[0]\n",
        "\n",
        "#for i in range(n_class):    \n",
        " #   fpr[i], tpr[i], thresh[i] = roc_curve(y_test_binarized[:,i], pred_prob[:,i])\n",
        "  #  roc_auc[i] = auc(fpr[i], tpr[i])\n",
        "    \n",
        "    # plotting    \n",
        "   # plt.plot(fpr[i], tpr[i], linestyle='--', \n",
        "    #         label='%s vs Rest (AUC=%0.2f)'%(classes[i],roc_auc[i]))\n",
        "\n",
        "#plt.plot([0,1],[0,1],'b--')\n",
        "#plt.xlim([0,1])\n",
        "#plt.ylim([0,1.05])\n",
        "#plt.title('RF ROC curve')\n",
        "#plt.xlabel('False Positive Rate')\n",
        "#plt.ylabel('True Positive rate')\n",
        "#plt.legend(loc='lower right')\n",
        "#plt.show()"
      ],
      "metadata": {
        "id": "2nRlJ6NBTnkZ"
      },
      "execution_count": null,
      "outputs": []
    },
    {
      "cell_type": "code",
      "source": [
        "#from sklearn import ensemble\n",
        "#rf=ensemble.RandomForestClassifier(n_estimators=100)\n",
        "#rf.fit(x_train, y_train)\n",
        "#rf.score(x_test, y_test)"
      ],
      "metadata": {
        "id": "SYbO7gdvIjO9"
      },
      "execution_count": null,
      "outputs": []
    },
    {
      "cell_type": "markdown",
      "source": [
        ""
      ],
      "metadata": {
        "id": "tHR-cAvnHVaY"
      }
    },
    {
      "cell_type": "code",
      "source": [
        "#x_test.reshape(-1, 1)\n"
      ],
      "metadata": {
        "id": "pVTXRuPNZGp5"
      },
      "execution_count": null,
      "outputs": []
    },
    {
      "cell_type": "code",
      "source": [
        ""
      ],
      "metadata": {
        "id": "ImtDaQrqSO_m"
      },
      "execution_count": null,
      "outputs": []
    },
    {
      "cell_type": "code",
      "source": [
        "1 in y, 2 in y, 3 in y, 4 in y, 5 in y, 6 in y"
      ],
      "metadata": {
        "id": "eTEvrxcSlRyj",
        "colab": {
          "base_uri": "https://localhost:8080/"
        },
        "outputId": "5b03af5a-c7b1-4435-ffd4-8f9a211be36d"
      },
      "execution_count": null,
      "outputs": [
        {
          "output_type": "execute_result",
          "data": {
            "text/plain": [
              "(True, True, False, False, False, False)"
            ]
          },
          "metadata": {},
          "execution_count": 83
        }
      ]
    },
    {
      "cell_type": "code",
      "source": [
        "c1 = 0\n",
        "c2 = 0\n",
        "c3 = 0\n",
        "c4 = 0\n",
        "c5=  0\n",
        "c6=  0\n",
        "for clazz in y:\n",
        "  #print(clazz)\n",
        "  if clazz==1: c1 = c1+1\n",
        "  if clazz==2: c2 = c2+1\n",
        "  if clazz==3: c3 = c3+1\n",
        "  if clazz==4: c4 = c4+1\n",
        "  if clazz==5: c5=c5+1\n",
        "  if clazz==6: c6=c6+1\n",
        "\n",
        "print('c1',c1)\n",
        "print('c2',c2)\n",
        "print('c3',c3)\n",
        "print('c4',c4)\n",
        "print('c5', c5)\n",
        "print('c6', c6)"
      ],
      "metadata": {
        "id": "zuRcvmMikKDN",
        "colab": {
          "base_uri": "https://localhost:8080/"
        },
        "outputId": "849fc1aa-cefd-4df5-cd5f-326cf5330c9e"
      },
      "execution_count": null,
      "outputs": [
        {
          "output_type": "stream",
          "name": "stdout",
          "text": [
            "c1 1824\n",
            "c2 1166\n",
            "c3 0\n",
            "c4 0\n",
            "c5 0\n",
            "c6 0\n"
          ]
        }
      ]
    },
    {
      "cell_type": "code",
      "source": [
        "plt.plot(x[1500:3000,2],x[1500:3000,3], x1[3000:3500,2],x1[3000:3500,3])\n",
        "plt.show()\n",
        "plt.plot(y)\n",
        "plt.plot(y1)\n",
        "\n"
      ],
      "metadata": {
        "id": "_f57VSCt9kmK",
        "colab": {
          "base_uri": "https://localhost:8080/",
          "height": 531
        },
        "outputId": "038f37c9-bad5-4cd7-ec2e-0c7e1234f48d"
      },
      "execution_count": null,
      "outputs": [
        {
          "output_type": "display_data",
          "data": {
            "text/plain": [
              "<Figure size 432x288 with 1 Axes>"
            ],
            "image/png": "[encoded data removed]"
          },
          "metadata": {
            "needs_background": "light"
          }
        },
        {
          "output_type": "execute_result",
          "data": {
            "text/plain": [
              "[<matplotlib.lines.Line2D at 0x7f18fbf2fc90>]"
            ]
          },
          "metadata": {},
          "execution_count": 85
        },
        {
          "output_type": "display_data",
          "data": {
            "text/plain": [
              "<Figure size 432x288 with 1 Axes>"
            ],
            "image/png": "[encoded data removed]"
          },
          "metadata": {
            "needs_background": "light"
          }
        }
      ]
    }
  ]
}